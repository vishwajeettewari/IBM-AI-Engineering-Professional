{
 "cells": [
  {
   "cell_type": "markdown",
   "metadata": {},
   "source": [
    "# This notebook contains all parts (A to D) of the assignment"
   ]
  },
  {
   "cell_type": "markdown",
   "metadata": {},
   "source": [
    "## The final results and discussion of them is located in the end of the notebook"
   ]
  },
  {
   "cell_type": "markdown",
   "metadata": {},
   "source": [
    "# A. Build a baseline model (5 marks)"
   ]
  },
  {
   "cell_type": "markdown",
   "metadata": {},
   "source": [
    "###  Download and Clean Dataset"
   ]
  },
  {
   "cell_type": "code",
   "execution_count": 1,
   "metadata": {},
   "outputs": [],
   "source": [
    "import pandas as pd\n",
    "import numpy as np"
   ]
  },
  {
   "cell_type": "code",
   "execution_count": 2,
   "metadata": {},
   "outputs": [
    {
     "data": {
      "text/html": [
       "<div>\n",
       "<style scoped>\n",
       "    .dataframe tbody tr th:only-of-type {\n",
       "        vertical-align: middle;\n",
       "    }\n",
       "\n",
       "    .dataframe tbody tr th {\n",
       "        vertical-align: top;\n",
       "    }\n",
       "\n",
       "    .dataframe thead th {\n",
       "        text-align: right;\n",
       "    }\n",
       "</style>\n",
       "<table border=\"1\" class=\"dataframe\">\n",
       "  <thead>\n",
       "    <tr style=\"text-align: right;\">\n",
       "      <th></th>\n",
       "      <th>Cement</th>\n",
       "      <th>Blast Furnace Slag</th>\n",
       "      <th>Fly Ash</th>\n",
       "      <th>Water</th>\n",
       "      <th>Superplasticizer</th>\n",
       "      <th>Coarse Aggregate</th>\n",
       "      <th>Fine Aggregate</th>\n",
       "      <th>Age</th>\n",
       "      <th>Strength</th>\n",
       "    </tr>\n",
       "  </thead>\n",
       "  <tbody>\n",
       "    <tr>\n",
       "      <th>0</th>\n",
       "      <td>540.0</td>\n",
       "      <td>0.0</td>\n",
       "      <td>0.0</td>\n",
       "      <td>162.0</td>\n",
       "      <td>2.5</td>\n",
       "      <td>1040.0</td>\n",
       "      <td>676.0</td>\n",
       "      <td>28</td>\n",
       "      <td>79.99</td>\n",
       "    </tr>\n",
       "    <tr>\n",
       "      <th>1</th>\n",
       "      <td>540.0</td>\n",
       "      <td>0.0</td>\n",
       "      <td>0.0</td>\n",
       "      <td>162.0</td>\n",
       "      <td>2.5</td>\n",
       "      <td>1055.0</td>\n",
       "      <td>676.0</td>\n",
       "      <td>28</td>\n",
       "      <td>61.89</td>\n",
       "    </tr>\n",
       "    <tr>\n",
       "      <th>2</th>\n",
       "      <td>332.5</td>\n",
       "      <td>142.5</td>\n",
       "      <td>0.0</td>\n",
       "      <td>228.0</td>\n",
       "      <td>0.0</td>\n",
       "      <td>932.0</td>\n",
       "      <td>594.0</td>\n",
       "      <td>270</td>\n",
       "      <td>40.27</td>\n",
       "    </tr>\n",
       "    <tr>\n",
       "      <th>3</th>\n",
       "      <td>332.5</td>\n",
       "      <td>142.5</td>\n",
       "      <td>0.0</td>\n",
       "      <td>228.0</td>\n",
       "      <td>0.0</td>\n",
       "      <td>932.0</td>\n",
       "      <td>594.0</td>\n",
       "      <td>365</td>\n",
       "      <td>41.05</td>\n",
       "    </tr>\n",
       "    <tr>\n",
       "      <th>4</th>\n",
       "      <td>198.6</td>\n",
       "      <td>132.4</td>\n",
       "      <td>0.0</td>\n",
       "      <td>192.0</td>\n",
       "      <td>0.0</td>\n",
       "      <td>978.4</td>\n",
       "      <td>825.5</td>\n",
       "      <td>360</td>\n",
       "      <td>44.30</td>\n",
       "    </tr>\n",
       "  </tbody>\n",
       "</table>\n",
       "</div>"
      ],
      "text/plain": [
       "   Cement  Blast Furnace Slag  Fly Ash  Water  Superplasticizer  \\\n",
       "0   540.0                 0.0      0.0  162.0               2.5   \n",
       "1   540.0                 0.0      0.0  162.0               2.5   \n",
       "2   332.5               142.5      0.0  228.0               0.0   \n",
       "3   332.5               142.5      0.0  228.0               0.0   \n",
       "4   198.6               132.4      0.0  192.0               0.0   \n",
       "\n",
       "   Coarse Aggregate  Fine Aggregate  Age  Strength  \n",
       "0            1040.0           676.0   28     79.99  \n",
       "1            1055.0           676.0   28     61.89  \n",
       "2             932.0           594.0  270     40.27  \n",
       "3             932.0           594.0  365     41.05  \n",
       "4             978.4           825.5  360     44.30  "
      ]
     },
     "execution_count": 2,
     "metadata": {},
     "output_type": "execute_result"
    }
   ],
   "source": [
    "concrete_data = pd.read_csv('https://s3-api.us-geo.objectstorage.softlayer.net/cf-courses-data/CognitiveClass/DL0101EN/labs/data/concrete_data.csv')\n",
    "concrete_data.head()"
   ]
  },
  {
   "cell_type": "code",
   "execution_count": 3,
   "metadata": {},
   "outputs": [
    {
     "data": {
      "text/plain": [
       "(1030, 9)"
      ]
     },
     "execution_count": 3,
     "metadata": {},
     "output_type": "execute_result"
    }
   ],
   "source": [
    "concrete_data.shape"
   ]
  },
  {
   "cell_type": "code",
   "execution_count": 4,
   "metadata": {},
   "outputs": [
    {
     "data": {
      "text/html": [
       "<div>\n",
       "<style scoped>\n",
       "    .dataframe tbody tr th:only-of-type {\n",
       "        vertical-align: middle;\n",
       "    }\n",
       "\n",
       "    .dataframe tbody tr th {\n",
       "        vertical-align: top;\n",
       "    }\n",
       "\n",
       "    .dataframe thead th {\n",
       "        text-align: right;\n",
       "    }\n",
       "</style>\n",
       "<table border=\"1\" class=\"dataframe\">\n",
       "  <thead>\n",
       "    <tr style=\"text-align: right;\">\n",
       "      <th></th>\n",
       "      <th>Cement</th>\n",
       "      <th>Blast Furnace Slag</th>\n",
       "      <th>Fly Ash</th>\n",
       "      <th>Water</th>\n",
       "      <th>Superplasticizer</th>\n",
       "      <th>Coarse Aggregate</th>\n",
       "      <th>Fine Aggregate</th>\n",
       "      <th>Age</th>\n",
       "      <th>Strength</th>\n",
       "    </tr>\n",
       "  </thead>\n",
       "  <tbody>\n",
       "    <tr>\n",
       "      <th>count</th>\n",
       "      <td>1030.000000</td>\n",
       "      <td>1030.000000</td>\n",
       "      <td>1030.000000</td>\n",
       "      <td>1030.000000</td>\n",
       "      <td>1030.000000</td>\n",
       "      <td>1030.000000</td>\n",
       "      <td>1030.000000</td>\n",
       "      <td>1030.000000</td>\n",
       "      <td>1030.000000</td>\n",
       "    </tr>\n",
       "    <tr>\n",
       "      <th>mean</th>\n",
       "      <td>281.167864</td>\n",
       "      <td>73.895825</td>\n",
       "      <td>54.188350</td>\n",
       "      <td>181.567282</td>\n",
       "      <td>6.204660</td>\n",
       "      <td>972.918932</td>\n",
       "      <td>773.580485</td>\n",
       "      <td>45.662136</td>\n",
       "      <td>35.817961</td>\n",
       "    </tr>\n",
       "    <tr>\n",
       "      <th>std</th>\n",
       "      <td>104.506364</td>\n",
       "      <td>86.279342</td>\n",
       "      <td>63.997004</td>\n",
       "      <td>21.354219</td>\n",
       "      <td>5.973841</td>\n",
       "      <td>77.753954</td>\n",
       "      <td>80.175980</td>\n",
       "      <td>63.169912</td>\n",
       "      <td>16.705742</td>\n",
       "    </tr>\n",
       "    <tr>\n",
       "      <th>min</th>\n",
       "      <td>102.000000</td>\n",
       "      <td>0.000000</td>\n",
       "      <td>0.000000</td>\n",
       "      <td>121.800000</td>\n",
       "      <td>0.000000</td>\n",
       "      <td>801.000000</td>\n",
       "      <td>594.000000</td>\n",
       "      <td>1.000000</td>\n",
       "      <td>2.330000</td>\n",
       "    </tr>\n",
       "    <tr>\n",
       "      <th>25%</th>\n",
       "      <td>192.375000</td>\n",
       "      <td>0.000000</td>\n",
       "      <td>0.000000</td>\n",
       "      <td>164.900000</td>\n",
       "      <td>0.000000</td>\n",
       "      <td>932.000000</td>\n",
       "      <td>730.950000</td>\n",
       "      <td>7.000000</td>\n",
       "      <td>23.710000</td>\n",
       "    </tr>\n",
       "    <tr>\n",
       "      <th>50%</th>\n",
       "      <td>272.900000</td>\n",
       "      <td>22.000000</td>\n",
       "      <td>0.000000</td>\n",
       "      <td>185.000000</td>\n",
       "      <td>6.400000</td>\n",
       "      <td>968.000000</td>\n",
       "      <td>779.500000</td>\n",
       "      <td>28.000000</td>\n",
       "      <td>34.445000</td>\n",
       "    </tr>\n",
       "    <tr>\n",
       "      <th>75%</th>\n",
       "      <td>350.000000</td>\n",
       "      <td>142.950000</td>\n",
       "      <td>118.300000</td>\n",
       "      <td>192.000000</td>\n",
       "      <td>10.200000</td>\n",
       "      <td>1029.400000</td>\n",
       "      <td>824.000000</td>\n",
       "      <td>56.000000</td>\n",
       "      <td>46.135000</td>\n",
       "    </tr>\n",
       "    <tr>\n",
       "      <th>max</th>\n",
       "      <td>540.000000</td>\n",
       "      <td>359.400000</td>\n",
       "      <td>200.100000</td>\n",
       "      <td>247.000000</td>\n",
       "      <td>32.200000</td>\n",
       "      <td>1145.000000</td>\n",
       "      <td>992.600000</td>\n",
       "      <td>365.000000</td>\n",
       "      <td>82.600000</td>\n",
       "    </tr>\n",
       "  </tbody>\n",
       "</table>\n",
       "</div>"
      ],
      "text/plain": [
       "            Cement  Blast Furnace Slag      Fly Ash        Water  \\\n",
       "count  1030.000000         1030.000000  1030.000000  1030.000000   \n",
       "mean    281.167864           73.895825    54.188350   181.567282   \n",
       "std     104.506364           86.279342    63.997004    21.354219   \n",
       "min     102.000000            0.000000     0.000000   121.800000   \n",
       "25%     192.375000            0.000000     0.000000   164.900000   \n",
       "50%     272.900000           22.000000     0.000000   185.000000   \n",
       "75%     350.000000          142.950000   118.300000   192.000000   \n",
       "max     540.000000          359.400000   200.100000   247.000000   \n",
       "\n",
       "       Superplasticizer  Coarse Aggregate  Fine Aggregate          Age  \\\n",
       "count       1030.000000       1030.000000     1030.000000  1030.000000   \n",
       "mean           6.204660        972.918932      773.580485    45.662136   \n",
       "std            5.973841         77.753954       80.175980    63.169912   \n",
       "min            0.000000        801.000000      594.000000     1.000000   \n",
       "25%            0.000000        932.000000      730.950000     7.000000   \n",
       "50%            6.400000        968.000000      779.500000    28.000000   \n",
       "75%           10.200000       1029.400000      824.000000    56.000000   \n",
       "max           32.200000       1145.000000      992.600000   365.000000   \n",
       "\n",
       "          Strength  \n",
       "count  1030.000000  \n",
       "mean     35.817961  \n",
       "std      16.705742  \n",
       "min       2.330000  \n",
       "25%      23.710000  \n",
       "50%      34.445000  \n",
       "75%      46.135000  \n",
       "max      82.600000  "
      ]
     },
     "execution_count": 4,
     "metadata": {},
     "output_type": "execute_result"
    }
   ],
   "source": [
    "concrete_data.describe()"
   ]
  },
  {
   "cell_type": "markdown",
   "metadata": {},
   "source": [
    "### Spliting data into predictors and target"
   ]
  },
  {
   "cell_type": "code",
   "execution_count": 5,
   "metadata": {},
   "outputs": [],
   "source": [
    "concrete_data_columns = concrete_data.columns\n",
    "\n",
    "predictors = concrete_data[concrete_data_columns[concrete_data_columns != 'Strength']] # all columns except Strength\n",
    "target = concrete_data['Strength'] # Strength column"
   ]
  },
  {
   "cell_type": "code",
   "execution_count": 6,
   "metadata": {},
   "outputs": [],
   "source": [
    "n_cols = predictors.shape[1] # number of predictors"
   ]
  },
  {
   "cell_type": "markdown",
   "metadata": {},
   "source": [
    "### Importing Keras"
   ]
  },
  {
   "cell_type": "code",
   "execution_count": 7,
   "metadata": {},
   "outputs": [
    {
     "name": "stderr",
     "output_type": "stream",
     "text": [
      "Using TensorFlow backend.\n"
     ]
    }
   ],
   "source": [
    "import keras"
   ]
  },
  {
   "cell_type": "code",
   "execution_count": 8,
   "metadata": {},
   "outputs": [],
   "source": [
    "from keras.models import Sequential\n",
    "from keras.layers import Dense"
   ]
  },
  {
   "cell_type": "markdown",
   "metadata": {},
   "source": [
    "### Building Neural Network"
   ]
  },
  {
   "cell_type": "code",
   "execution_count": 9,
   "metadata": {},
   "outputs": [
    {
     "name": "stdout",
     "output_type": "stream",
     "text": [
      "WARNING:tensorflow:From /opt/conda/envs/Python36/lib/python3.6/site-packages/tensorflow/python/framework/op_def_library.py:263: colocate_with (from tensorflow.python.framework.ops) is deprecated and will be removed in a future version.\n",
      "Instructions for updating:\n",
      "Colocations handled automatically by placer.\n"
     ]
    }
   ],
   "source": [
    "def regression_model():\n",
    "    # create model\n",
    "    model = Sequential()\n",
    "    model.add(Dense(10, activation='relu', input_shape=(n_cols,)))\n",
    "    model.add(Dense(1))\n",
    "    \n",
    "    # compile model\n",
    "    model.compile(optimizer='adam', loss='mean_squared_error')\n",
    "    return model\n",
    "\n",
    "model_A = regression_model()"
   ]
  },
  {
   "cell_type": "markdown",
   "metadata": {},
   "source": [
    "## 1. Randomly split the data into a training and test sets by holding 30% of the data for testing. You can use the train_test_split helper function from Scikit-learn."
   ]
  },
  {
   "cell_type": "code",
   "execution_count": 10,
   "metadata": {},
   "outputs": [
    {
     "data": {
      "text/plain": [
       "649     6.90\n",
       "261    37.40\n",
       "691     6.81\n",
       "665    11.39\n",
       "397    29.16\n",
       "Name: Strength, dtype: float64"
      ]
     },
     "execution_count": 10,
     "metadata": {},
     "output_type": "execute_result"
    }
   ],
   "source": [
    "from sklearn.model_selection import train_test_split\n",
    "X_train, X_test, y_train, y_test = train_test_split(predictors, target, test_size=0.3)\n",
    "\n",
    "y_test.head()"
   ]
  },
  {
   "cell_type": "markdown",
   "metadata": {},
   "source": [
    "## 2. Train the model on the training data using 50 epochs."
   ]
  },
  {
   "cell_type": "code",
   "execution_count": 11,
   "metadata": {},
   "outputs": [
    {
     "name": "stdout",
     "output_type": "stream",
     "text": [
      "WARNING:tensorflow:From /opt/conda/envs/Python36/lib/python3.6/site-packages/tensorflow/python/ops/math_ops.py:3066: to_int32 (from tensorflow.python.ops.math_ops) is deprecated and will be removed in a future version.\n",
      "Instructions for updating:\n",
      "Use tf.cast instead.\n",
      "Train on 504 samples, validate on 217 samples\n",
      "Epoch 1/50\n",
      " - 1s - loss: 70153.2899 - val_loss: 59566.3423\n",
      "Epoch 2/50\n",
      " - 0s - loss: 45656.2183 - val_loss: 36326.3362\n",
      "Epoch 3/50\n",
      " - 0s - loss: 24357.8762 - val_loss: 17141.8294\n",
      "Epoch 4/50\n",
      " - 0s - loss: 9877.2698 - val_loss: 6525.7569\n",
      "Epoch 5/50\n",
      " - 0s - loss: 3928.2232 - val_loss: 3373.6609\n",
      "Epoch 6/50\n",
      " - 0s - loss: 2659.7603 - val_loss: 2798.3694\n",
      "Epoch 7/50\n",
      " - 0s - loss: 2407.9711 - val_loss: 2547.5404\n",
      "Epoch 8/50\n",
      " - 0s - loss: 2163.6121 - val_loss: 2336.5057\n",
      "Epoch 9/50\n",
      " - 0s - loss: 1953.6541 - val_loss: 2151.1663\n",
      "Epoch 10/50\n",
      " - 0s - loss: 1772.1013 - val_loss: 1961.7454\n",
      "Epoch 11/50\n",
      " - 0s - loss: 1603.8078 - val_loss: 1791.6043\n",
      "Epoch 12/50\n",
      " - 0s - loss: 1456.3085 - val_loss: 1633.3479\n",
      "Epoch 13/50\n",
      " - 0s - loss: 1324.8309 - val_loss: 1495.5580\n",
      "Epoch 14/50\n",
      " - 0s - loss: 1208.9360 - val_loss: 1359.1737\n",
      "Epoch 15/50\n",
      " - 0s - loss: 1105.2889 - val_loss: 1253.9058\n",
      "Epoch 16/50\n",
      " - 0s - loss: 1014.8756 - val_loss: 1153.2156\n",
      "Epoch 17/50\n",
      " - 0s - loss: 934.8292 - val_loss: 1060.6825\n",
      "Epoch 18/50\n",
      " - 0s - loss: 861.3331 - val_loss: 982.2871\n",
      "Epoch 19/50\n",
      " - 0s - loss: 797.5549 - val_loss: 903.0439\n",
      "Epoch 20/50\n",
      " - 0s - loss: 739.6277 - val_loss: 846.7725\n",
      "Epoch 21/50\n",
      " - 0s - loss: 691.0000 - val_loss: 779.7732\n",
      "Epoch 22/50\n",
      " - 0s - loss: 644.9668 - val_loss: 736.0593\n",
      "Epoch 23/50\n",
      " - 0s - loss: 606.5612 - val_loss: 682.8789\n",
      "Epoch 24/50\n",
      " - 0s - loss: 569.3119 - val_loss: 647.9524\n",
      "Epoch 25/50\n",
      " - 0s - loss: 542.0132 - val_loss: 604.1587\n",
      "Epoch 26/50\n",
      " - 0s - loss: 512.4781 - val_loss: 578.2579\n",
      "Epoch 27/50\n",
      " - 0s - loss: 490.4931 - val_loss: 545.2179\n",
      "Epoch 28/50\n",
      " - 0s - loss: 468.6529 - val_loss: 516.4204\n",
      "Epoch 29/50\n",
      " - 0s - loss: 451.8985 - val_loss: 488.7041\n",
      "Epoch 30/50\n",
      " - 0s - loss: 433.2325 - val_loss: 474.0397\n",
      "Epoch 31/50\n",
      " - 0s - loss: 416.7314 - val_loss: 446.7145\n",
      "Epoch 32/50\n",
      " - 0s - loss: 402.6666 - val_loss: 429.5165\n",
      "Epoch 33/50\n",
      " - 0s - loss: 388.2838 - val_loss: 413.4813\n",
      "Epoch 34/50\n",
      " - 0s - loss: 376.9148 - val_loss: 395.6432\n",
      "Epoch 35/50\n",
      " - 0s - loss: 365.3660 - val_loss: 381.2795\n",
      "Epoch 36/50\n",
      " - 0s - loss: 354.0534 - val_loss: 371.2903\n",
      "Epoch 37/50\n",
      " - 0s - loss: 343.8491 - val_loss: 357.6777\n",
      "Epoch 38/50\n",
      " - 0s - loss: 333.5950 - val_loss: 345.2703\n",
      "Epoch 39/50\n",
      " - 0s - loss: 324.3079 - val_loss: 331.7855\n",
      "Epoch 40/50\n",
      " - 0s - loss: 315.9211 - val_loss: 323.2647\n",
      "Epoch 41/50\n",
      " - 0s - loss: 307.8457 - val_loss: 311.5389\n",
      "Epoch 42/50\n",
      " - 0s - loss: 299.6418 - val_loss: 304.8054\n",
      "Epoch 43/50\n",
      " - 0s - loss: 292.0429 - val_loss: 294.3051\n",
      "Epoch 44/50\n",
      " - 0s - loss: 284.7071 - val_loss: 286.4615\n",
      "Epoch 45/50\n",
      " - 0s - loss: 278.6557 - val_loss: 281.7104\n",
      "Epoch 46/50\n",
      " - 0s - loss: 271.0209 - val_loss: 270.4318\n",
      "Epoch 47/50\n",
      " - 0s - loss: 264.6796 - val_loss: 261.8378\n",
      "Epoch 48/50\n",
      " - 0s - loss: 258.9129 - val_loss: 259.6130\n",
      "Epoch 49/50\n",
      " - 0s - loss: 253.8721 - val_loss: 250.2974\n",
      "Epoch 50/50\n",
      " - 0s - loss: 246.3051 - val_loss: 248.8216\n"
     ]
    },
    {
     "data": {
      "text/plain": [
       "<keras.callbacks.History at 0x7fac6b524da0>"
      ]
     },
     "execution_count": 11,
     "metadata": {},
     "output_type": "execute_result"
    }
   ],
   "source": [
    "model_A.fit(X_train, y_train, validation_split=0.3, epochs=50, verbose=2)"
   ]
  },
  {
   "cell_type": "markdown",
   "metadata": {},
   "source": [
    "## 3. Evaluate the model on the test data and compute the mean squared error between the predicted concrete strength and the actual concrete strength. You can use the mean_squared_error function from Scikit-learn."
   ]
  },
  {
   "cell_type": "code",
   "execution_count": 12,
   "metadata": {},
   "outputs": [
    {
     "data": {
      "text/plain": [
       "254.36556523173329"
      ]
     },
     "execution_count": 12,
     "metadata": {},
     "output_type": "execute_result"
    }
   ],
   "source": [
    "from sklearn.metrics import mean_squared_error\n",
    "\n",
    "y_pred = model_A.predict(X_test)\n",
    "\n",
    "mean_squared_error(y_test, y_pred)"
   ]
  },
  {
   "cell_type": "markdown",
   "metadata": {},
   "source": [
    "## 4. Repeat steps 1 - 3, 50 times, i.e., create a list of 50 mean squared errors."
   ]
  },
  {
   "cell_type": "code",
   "execution_count": 13,
   "metadata": {},
   "outputs": [],
   "source": [
    "model_A = regression_model()\n",
    "\n",
    "mse_list = []\n",
    "\n",
    "def get_mse(model):\n",
    "    X_train, X_test, y_train, y_test = train_test_split(predictors, target, test_size=0.3)\n",
    "    model.fit(X_train, y_train, validation_split=0.3, epochs=50, verbose=0)\n",
    "    y_pred = model.predict(X_test)\n",
    "    return mean_squared_error(y_test, y_pred)"
   ]
  },
  {
   "cell_type": "code",
   "execution_count": 14,
   "metadata": {},
   "outputs": [
    {
     "name": "stdout",
     "output_type": "stream",
     "text": [
      "Computing 1th iteration\n",
      "Computing 2th iteration\n",
      "Computing 3th iteration\n",
      "Computing 4th iteration\n",
      "Computing 5th iteration\n",
      "Computing 6th iteration\n",
      "Computing 7th iteration\n",
      "Computing 8th iteration\n",
      "Computing 9th iteration\n",
      "Computing 10th iteration\n",
      "Computing 11th iteration\n",
      "Computing 12th iteration\n",
      "Computing 13th iteration\n",
      "Computing 14th iteration\n",
      "Computing 15th iteration\n",
      "Computing 16th iteration\n",
      "Computing 17th iteration\n",
      "Computing 18th iteration\n",
      "Computing 19th iteration\n",
      "Computing 20th iteration\n",
      "Computing 21th iteration\n",
      "Computing 22th iteration\n",
      "Computing 23th iteration\n",
      "Computing 24th iteration\n",
      "Computing 25th iteration\n",
      "Computing 26th iteration\n",
      "Computing 27th iteration\n",
      "Computing 28th iteration\n",
      "Computing 29th iteration\n",
      "Computing 30th iteration\n",
      "Computing 31th iteration\n",
      "Computing 32th iteration\n",
      "Computing 33th iteration\n",
      "Computing 34th iteration\n",
      "Computing 35th iteration\n",
      "Computing 36th iteration\n",
      "Computing 37th iteration\n",
      "Computing 38th iteration\n",
      "Computing 39th iteration\n",
      "Computing 40th iteration\n",
      "Computing 41th iteration\n",
      "Computing 42th iteration\n",
      "Computing 43th iteration\n",
      "Computing 44th iteration\n",
      "Computing 45th iteration\n",
      "Computing 46th iteration\n",
      "Computing 47th iteration\n",
      "Computing 48th iteration\n",
      "Computing 49th iteration\n",
      "Computing 50th iteration\n"
     ]
    },
    {
     "data": {
      "text/plain": [
       "[1655.0776659975893,\n",
       " 718.1644832554562,\n",
       " 346.38199079324306,\n",
       " 252.22034675706377,\n",
       " 172.16386256060673,\n",
       " 148.98770160633978,\n",
       " 127.72497241964028,\n",
       " 109.40918417690312,\n",
       " 111.79102723477074,\n",
       " 107.4755316681148]"
      ]
     },
     "execution_count": 14,
     "metadata": {},
     "output_type": "execute_result"
    }
   ],
   "source": [
    "for i in range(50):\n",
    "    print('Computing {}th iteration'.format(i+1))\n",
    "    mse_list.append(get_mse(model_A))\n",
    "\n",
    "mse_list[:10]"
   ]
  },
  {
   "cell_type": "markdown",
   "metadata": {},
   "source": [
    "## 5. Report the mean and the standard deviation of the mean squared errors."
   ]
  },
  {
   "cell_type": "code",
   "execution_count": 15,
   "metadata": {},
   "outputs": [
    {
     "name": "stdout",
     "output_type": "stream",
     "text": [
      "Mean MSE:  119.68541321852037\n"
     ]
    }
   ],
   "source": [
    "mean_mse = np.mean(mse_list)\n",
    "print('Mean MSE: ', mean_mse)"
   ]
  },
  {
   "cell_type": "code",
   "execution_count": 16,
   "metadata": {},
   "outputs": [
    {
     "name": "stdout",
     "output_type": "stream",
     "text": [
      "Standard deviation of MSE:  243.11265705747866\n"
     ]
    }
   ],
   "source": [
    "sd_mse = np.std(mse_list)\n",
    "print('Standard deviation of MSE: ', sd_mse)"
   ]
  },
  {
   "cell_type": "code",
   "execution_count": null,
   "metadata": {},
   "outputs": [],
   "source": []
  },
  {
   "cell_type": "markdown",
   "metadata": {},
   "source": [
    "# B. Normalize the data (5 marks)"
   ]
  },
  {
   "cell_type": "code",
   "execution_count": 17,
   "metadata": {},
   "outputs": [],
   "source": [
    "model_B = regression_model()\n",
    "predictors_norm = (predictors - predictors.mean()) / predictors.std()"
   ]
  },
  {
   "cell_type": "code",
   "execution_count": 18,
   "metadata": {},
   "outputs": [
    {
     "data": {
      "text/plain": [
       "104    33.40\n",
       "181    82.60\n",
       "432    26.20\n",
       "327    55.83\n",
       "667    39.32\n",
       "Name: Strength, dtype: float64"
      ]
     },
     "execution_count": 18,
     "metadata": {},
     "output_type": "execute_result"
    }
   ],
   "source": [
    "from sklearn.model_selection import train_test_split\n",
    "X_train, X_test, y_train, y_test = train_test_split(predictors_norm, target, test_size=0.3)\n",
    "\n",
    "y_test.head()"
   ]
  },
  {
   "cell_type": "code",
   "execution_count": 19,
   "metadata": {},
   "outputs": [
    {
     "name": "stdout",
     "output_type": "stream",
     "text": [
      "Train on 504 samples, validate on 217 samples\n",
      "Epoch 1/50\n",
      " - 1s - loss: 1460.1302 - val_loss: 1630.0080\n",
      "Epoch 2/50\n",
      " - 0s - loss: 1446.7574 - val_loss: 1614.6188\n",
      "Epoch 3/50\n",
      " - 0s - loss: 1433.5008 - val_loss: 1598.7402\n",
      "Epoch 4/50\n",
      " - 0s - loss: 1419.7812 - val_loss: 1582.8624\n",
      "Epoch 5/50\n",
      " - 0s - loss: 1406.1211 - val_loss: 1566.5995\n",
      "Epoch 6/50\n",
      " - 0s - loss: 1392.0765 - val_loss: 1550.1299\n",
      "Epoch 7/50\n",
      " - 0s - loss: 1377.9561 - val_loss: 1533.2889\n",
      "Epoch 8/50\n",
      " - 0s - loss: 1363.5533 - val_loss: 1516.2445\n",
      "Epoch 9/50\n",
      " - 0s - loss: 1349.0681 - val_loss: 1498.8921\n",
      "Epoch 10/50\n",
      " - 0s - loss: 1334.2527 - val_loss: 1480.9766\n",
      "Epoch 11/50\n",
      " - 0s - loss: 1319.1057 - val_loss: 1462.8503\n",
      "Epoch 12/50\n",
      " - 0s - loss: 1303.7499 - val_loss: 1444.5214\n",
      "Epoch 13/50\n",
      " - 0s - loss: 1288.0521 - val_loss: 1425.8150\n",
      "Epoch 14/50\n",
      " - 0s - loss: 1272.1434 - val_loss: 1406.6305\n",
      "Epoch 15/50\n",
      " - 0s - loss: 1255.8772 - val_loss: 1387.3665\n",
      "Epoch 16/50\n",
      " - 0s - loss: 1239.6458 - val_loss: 1367.2684\n",
      "Epoch 17/50\n",
      " - 0s - loss: 1222.7957 - val_loss: 1347.2104\n",
      "Epoch 18/50\n",
      " - 0s - loss: 1205.7122 - val_loss: 1327.0194\n",
      "Epoch 19/50\n",
      " - 0s - loss: 1188.4043 - val_loss: 1306.3645\n",
      "Epoch 20/50\n",
      " - 0s - loss: 1171.0394 - val_loss: 1284.8128\n",
      "Epoch 21/50\n",
      " - 0s - loss: 1152.8830 - val_loss: 1263.3189\n",
      "Epoch 22/50\n",
      " - 0s - loss: 1134.4403 - val_loss: 1242.4552\n",
      "Epoch 23/50\n",
      " - 0s - loss: 1116.5925 - val_loss: 1219.7603\n",
      "Epoch 24/50\n",
      " - 0s - loss: 1097.7308 - val_loss: 1197.2525\n",
      "Epoch 25/50\n",
      " - 0s - loss: 1078.7391 - val_loss: 1174.9576\n",
      "Epoch 26/50\n",
      " - 0s - loss: 1059.9056 - val_loss: 1151.9901\n",
      "Epoch 27/50\n",
      " - 0s - loss: 1040.3026 - val_loss: 1129.4372\n",
      "Epoch 28/50\n",
      " - 0s - loss: 1021.0269 - val_loss: 1106.0448\n",
      "Epoch 29/50\n",
      " - 0s - loss: 1001.2602 - val_loss: 1083.0389\n",
      "Epoch 30/50\n",
      " - 0s - loss: 982.0540 - val_loss: 1058.9290\n",
      "Epoch 31/50\n",
      " - 0s - loss: 961.9184 - val_loss: 1035.4264\n",
      "Epoch 32/50\n",
      " - 0s - loss: 942.0897 - val_loss: 1011.9788\n",
      "Epoch 33/50\n",
      " - 0s - loss: 922.0893 - val_loss: 988.2956\n",
      "Epoch 34/50\n",
      " - 0s - loss: 902.2767 - val_loss: 964.3666\n",
      "Epoch 35/50\n",
      " - 0s - loss: 881.8479 - val_loss: 941.1965\n",
      "Epoch 36/50\n",
      " - 0s - loss: 861.6790 - val_loss: 917.8910\n",
      "Epoch 37/50\n",
      " - 0s - loss: 842.0548 - val_loss: 893.6574\n",
      "Epoch 38/50\n",
      " - 0s - loss: 821.8118 - val_loss: 869.9062\n",
      "Epoch 39/50\n",
      " - 0s - loss: 801.8895 - val_loss: 846.0458\n",
      "Epoch 40/50\n",
      " - 0s - loss: 781.3741 - val_loss: 823.0410\n",
      "Epoch 41/50\n",
      " - 0s - loss: 761.5739 - val_loss: 799.7160\n",
      "Epoch 42/50\n",
      " - 0s - loss: 741.7649 - val_loss: 776.2300\n",
      "Epoch 43/50\n",
      " - 0s - loss: 721.4893 - val_loss: 753.7437\n",
      "Epoch 44/50\n",
      " - 0s - loss: 701.6877 - val_loss: 731.3849\n",
      "Epoch 45/50\n",
      " - 0s - loss: 682.3706 - val_loss: 708.6589\n",
      "Epoch 46/50\n",
      " - 0s - loss: 662.9039 - val_loss: 686.4353\n",
      "Epoch 47/50\n",
      " - 0s - loss: 643.7233 - val_loss: 664.8633\n",
      "Epoch 48/50\n",
      " - 0s - loss: 624.6853 - val_loss: 643.8684\n",
      "Epoch 49/50\n",
      " - 0s - loss: 606.0565 - val_loss: 623.0297\n",
      "Epoch 50/50\n",
      " - 0s - loss: 587.9991 - val_loss: 602.3087\n"
     ]
    },
    {
     "data": {
      "text/plain": [
       "<keras.callbacks.History at 0x7facb50f8cf8>"
      ]
     },
     "execution_count": 19,
     "metadata": {},
     "output_type": "execute_result"
    }
   ],
   "source": [
    "model_B.fit(X_train, y_train, validation_split=0.3, epochs=50, verbose=2)"
   ]
  },
  {
   "cell_type": "code",
   "execution_count": 20,
   "metadata": {},
   "outputs": [
    {
     "data": {
      "text/plain": [
       "608.6309167445229"
      ]
     },
     "execution_count": 20,
     "metadata": {},
     "output_type": "execute_result"
    }
   ],
   "source": [
    "y_pred = model_B.predict(X_test)\n",
    "\n",
    "mean_squared_error(y_test, y_pred)"
   ]
  },
  {
   "cell_type": "code",
   "execution_count": 21,
   "metadata": {},
   "outputs": [
    {
     "name": "stdout",
     "output_type": "stream",
     "text": [
      "Computing 1th iteration\n",
      "Computing 2th iteration\n",
      "Computing 3th iteration\n",
      "Computing 4th iteration\n",
      "Computing 5th iteration\n",
      "Computing 6th iteration\n",
      "Computing 7th iteration\n",
      "Computing 8th iteration\n",
      "Computing 9th iteration\n",
      "Computing 10th iteration\n",
      "Computing 11th iteration\n",
      "Computing 12th iteration\n",
      "Computing 13th iteration\n",
      "Computing 14th iteration\n",
      "Computing 15th iteration\n",
      "Computing 16th iteration\n",
      "Computing 17th iteration\n",
      "Computing 18th iteration\n",
      "Computing 19th iteration\n",
      "Computing 20th iteration\n",
      "Computing 21th iteration\n",
      "Computing 22th iteration\n",
      "Computing 23th iteration\n",
      "Computing 24th iteration\n",
      "Computing 25th iteration\n",
      "Computing 26th iteration\n",
      "Computing 27th iteration\n",
      "Computing 28th iteration\n",
      "Computing 29th iteration\n",
      "Computing 30th iteration\n",
      "Computing 31th iteration\n",
      "Computing 32th iteration\n",
      "Computing 33th iteration\n",
      "Computing 34th iteration\n",
      "Computing 35th iteration\n",
      "Computing 36th iteration\n",
      "Computing 37th iteration\n",
      "Computing 38th iteration\n",
      "Computing 39th iteration\n",
      "Computing 40th iteration\n",
      "Computing 41th iteration\n",
      "Computing 42th iteration\n",
      "Computing 43th iteration\n",
      "Computing 44th iteration\n",
      "Computing 45th iteration\n",
      "Computing 46th iteration\n",
      "Computing 47th iteration\n",
      "Computing 48th iteration\n",
      "Computing 49th iteration\n",
      "Computing 50th iteration\n"
     ]
    },
    {
     "data": {
      "text/plain": [
       "[1940.7836348626545,\n",
       " 426.97499808884015,\n",
       " 148.31205822476576,\n",
       " 115.4163074421897,\n",
       " 108.65996053999318,\n",
       " 99.6507609369059,\n",
       " 113.00730630876568,\n",
       " 105.47196514144396,\n",
       " 135.76659651518776,\n",
       " 108.76861659451683]"
      ]
     },
     "execution_count": 21,
     "metadata": {},
     "output_type": "execute_result"
    }
   ],
   "source": [
    "model_B = regression_model()\n",
    "\n",
    "mse_list_norm = []\n",
    "\n",
    "for i in range(50):\n",
    "    print('Computing {}th iteration'.format(i+1))\n",
    "    mse_list_norm.append(get_mse(model_B))\n",
    "\n",
    "mse_list_norm[:10]"
   ]
  },
  {
   "cell_type": "code",
   "execution_count": 22,
   "metadata": {},
   "outputs": [
    {
     "name": "stdout",
     "output_type": "stream",
     "text": [
      "Mean MSE (normalized data):  157.21599365438797\n"
     ]
    }
   ],
   "source": [
    "mean_mse_norm = np.mean(mse_list_norm)\n",
    "print('Mean MSE (normalized data): ', mean_mse_norm)"
   ]
  },
  {
   "cell_type": "code",
   "execution_count": 23,
   "metadata": {},
   "outputs": [
    {
     "name": "stdout",
     "output_type": "stream",
     "text": [
      "Standard deviation of MSE (normalized data):  258.8183682766227\n"
     ]
    }
   ],
   "source": [
    "sd_mse_norm = np.std(mse_list_norm)\n",
    "print('Standard deviation of MSE (normalized data): ', sd_mse_norm)"
   ]
  },
  {
   "cell_type": "code",
   "execution_count": null,
   "metadata": {},
   "outputs": [],
   "source": []
  },
  {
   "cell_type": "markdown",
   "metadata": {},
   "source": [
    "# C. Increate the number of epochs (5 marks)"
   ]
  },
  {
   "cell_type": "code",
   "execution_count": 24,
   "metadata": {},
   "outputs": [],
   "source": [
    "model_C = regression_model()"
   ]
  },
  {
   "cell_type": "code",
   "execution_count": 25,
   "metadata": {},
   "outputs": [
    {
     "data": {
      "text/plain": [
       "904    23.79\n",
       "12     43.01\n",
       "205    20.92\n",
       "726    14.31\n",
       "921     9.74\n",
       "Name: Strength, dtype: float64"
      ]
     },
     "execution_count": 25,
     "metadata": {},
     "output_type": "execute_result"
    }
   ],
   "source": [
    "from sklearn.model_selection import train_test_split\n",
    "X_train, X_test, y_train, y_test = train_test_split(predictors_norm, target, test_size=0.3)\n",
    "\n",
    "y_test.head()"
   ]
  },
  {
   "cell_type": "code",
   "execution_count": 26,
   "metadata": {},
   "outputs": [
    {
     "name": "stdout",
     "output_type": "stream",
     "text": [
      "Train on 504 samples, validate on 217 samples\n",
      "Epoch 1/100\n",
      " - 1s - loss: 1610.3513 - val_loss: 1613.2737\n",
      "Epoch 2/100\n",
      " - 0s - loss: 1599.9624 - val_loss: 1603.1090\n",
      "Epoch 3/100\n",
      " - 0s - loss: 1589.4542 - val_loss: 1592.9906\n",
      "Epoch 4/100\n",
      " - 0s - loss: 1579.0871 - val_loss: 1582.8861\n",
      "Epoch 5/100\n",
      " - 0s - loss: 1568.5371 - val_loss: 1572.7612\n",
      "Epoch 6/100\n",
      " - 0s - loss: 1557.7973 - val_loss: 1562.3704\n",
      "Epoch 7/100\n",
      " - 0s - loss: 1546.8532 - val_loss: 1551.7791\n",
      "Epoch 8/100\n",
      " - 0s - loss: 1535.6992 - val_loss: 1540.7741\n",
      "Epoch 9/100\n",
      " - 0s - loss: 1524.0999 - val_loss: 1529.5051\n",
      "Epoch 10/100\n",
      " - 0s - loss: 1512.0179 - val_loss: 1517.8222\n",
      "Epoch 11/100\n",
      " - 0s - loss: 1499.5982 - val_loss: 1505.5677\n",
      "Epoch 12/100\n",
      " - 0s - loss: 1486.5896 - val_loss: 1492.8444\n",
      "Epoch 13/100\n",
      " - 0s - loss: 1473.0103 - val_loss: 1479.6026\n",
      "Epoch 14/100\n",
      " - 0s - loss: 1458.6919 - val_loss: 1466.0482\n",
      "Epoch 15/100\n",
      " - 0s - loss: 1443.8732 - val_loss: 1451.6922\n",
      "Epoch 16/100\n",
      " - 0s - loss: 1428.3541 - val_loss: 1436.6146\n",
      "Epoch 17/100\n",
      " - 0s - loss: 1411.9517 - val_loss: 1420.6269\n",
      "Epoch 18/100\n",
      " - 0s - loss: 1394.6189 - val_loss: 1404.1481\n",
      "Epoch 19/100\n",
      " - 0s - loss: 1376.5828 - val_loss: 1386.8868\n",
      "Epoch 20/100\n",
      " - 0s - loss: 1357.9135 - val_loss: 1368.5929\n",
      "Epoch 21/100\n",
      " - 0s - loss: 1338.3070 - val_loss: 1349.9185\n",
      "Epoch 22/100\n",
      " - 0s - loss: 1318.0403 - val_loss: 1330.5970\n",
      "Epoch 23/100\n",
      " - 0s - loss: 1296.8832 - val_loss: 1310.7650\n",
      "Epoch 24/100\n",
      " - 0s - loss: 1275.3780 - val_loss: 1290.1047\n",
      "Epoch 25/100\n",
      " - 0s - loss: 1252.9729 - val_loss: 1268.7874\n",
      "Epoch 26/100\n",
      " - 0s - loss: 1229.8802 - val_loss: 1247.0789\n",
      "Epoch 27/100\n",
      " - 0s - loss: 1206.3764 - val_loss: 1224.9488\n",
      "Epoch 28/100\n",
      " - 0s - loss: 1182.2907 - val_loss: 1202.5022\n",
      "Epoch 29/100\n",
      " - 0s - loss: 1158.0681 - val_loss: 1179.3651\n",
      "Epoch 30/100\n",
      " - 0s - loss: 1133.5757 - val_loss: 1155.7954\n",
      "Epoch 31/100\n",
      " - 0s - loss: 1108.2060 - val_loss: 1132.3337\n",
      "Epoch 32/100\n",
      " - 0s - loss: 1082.6496 - val_loss: 1108.9532\n",
      "Epoch 33/100\n",
      " - 0s - loss: 1057.2639 - val_loss: 1085.1038\n",
      "Epoch 34/100\n",
      " - 0s - loss: 1031.6181 - val_loss: 1060.7925\n",
      "Epoch 35/100\n",
      " - 0s - loss: 1005.5589 - val_loss: 1036.5464\n",
      "Epoch 36/100\n",
      " - 0s - loss: 980.1746 - val_loss: 1011.5550\n",
      "Epoch 37/100\n",
      " - 0s - loss: 953.6336 - val_loss: 987.6199\n",
      "Epoch 38/100\n",
      " - 0s - loss: 927.9669 - val_loss: 963.3670\n",
      "Epoch 39/100\n",
      " - 0s - loss: 902.2509 - val_loss: 939.2359\n",
      "Epoch 40/100\n",
      " - 0s - loss: 877.0427 - val_loss: 914.9249\n",
      "Epoch 41/100\n",
      " - 0s - loss: 851.2362 - val_loss: 891.4810\n",
      "Epoch 42/100\n",
      " - 0s - loss: 826.6997 - val_loss: 867.3495\n",
      "Epoch 43/100\n",
      " - 0s - loss: 801.3058 - val_loss: 844.3396\n",
      "Epoch 44/100\n",
      " - 0s - loss: 777.2675 - val_loss: 820.6303\n",
      "Epoch 45/100\n",
      " - 0s - loss: 752.5722 - val_loss: 797.9089\n",
      "Epoch 46/100\n",
      " - 0s - loss: 728.5170 - val_loss: 775.3064\n",
      "Epoch 47/100\n",
      " - 0s - loss: 705.2268 - val_loss: 752.6441\n",
      "Epoch 48/100\n",
      " - 0s - loss: 681.5786 - val_loss: 730.6653\n",
      "Epoch 49/100\n",
      " - 0s - loss: 658.6880 - val_loss: 709.1105\n",
      "Epoch 50/100\n",
      " - 0s - loss: 636.0440 - val_loss: 688.2434\n",
      "Epoch 51/100\n",
      " - 0s - loss: 614.5793 - val_loss: 667.2961\n",
      "Epoch 52/100\n",
      " - 0s - loss: 592.9948 - val_loss: 647.4068\n",
      "Epoch 53/100\n",
      " - 0s - loss: 572.7469 - val_loss: 627.6644\n",
      "Epoch 54/100\n",
      " - 0s - loss: 552.7145 - val_loss: 608.4806\n",
      "Epoch 55/100\n",
      " - 0s - loss: 533.7103 - val_loss: 589.8578\n",
      "Epoch 56/100\n",
      " - 0s - loss: 515.1504 - val_loss: 572.3080\n",
      "Epoch 57/100\n",
      " - 0s - loss: 497.4987 - val_loss: 555.5423\n",
      "Epoch 58/100\n",
      " - 0s - loss: 480.9768 - val_loss: 538.7252\n",
      "Epoch 59/100\n",
      " - 0s - loss: 464.3465 - val_loss: 522.9980\n",
      "Epoch 60/100\n",
      " - 0s - loss: 449.1446 - val_loss: 507.6924\n",
      "Epoch 61/100\n",
      " - 0s - loss: 434.3809 - val_loss: 492.8598\n",
      "Epoch 62/100\n",
      " - 0s - loss: 420.1099 - val_loss: 479.1952\n",
      "Epoch 63/100\n",
      " - 0s - loss: 406.7234 - val_loss: 466.1462\n",
      "Epoch 64/100\n",
      " - 0s - loss: 394.1937 - val_loss: 453.2225\n",
      "Epoch 65/100\n",
      " - 0s - loss: 382.0001 - val_loss: 441.1951\n",
      "Epoch 66/100\n",
      " - 0s - loss: 370.5071 - val_loss: 429.6524\n",
      "Epoch 67/100\n",
      " - 0s - loss: 360.0114 - val_loss: 418.2524\n",
      "Epoch 68/100\n",
      " - 0s - loss: 349.1831 - val_loss: 408.2086\n",
      "Epoch 69/100\n",
      " - 0s - loss: 339.7630 - val_loss: 397.9276\n",
      "Epoch 70/100\n",
      " - 0s - loss: 330.3116 - val_loss: 388.5992\n",
      "Epoch 71/100\n",
      " - 0s - loss: 321.7648 - val_loss: 379.4542\n",
      "Epoch 72/100\n",
      " - 0s - loss: 313.3132 - val_loss: 370.8142\n",
      "Epoch 73/100\n",
      " - 0s - loss: 305.5103 - val_loss: 362.6646\n",
      "Epoch 74/100\n",
      " - 0s - loss: 298.1500 - val_loss: 354.7441\n",
      "Epoch 75/100\n",
      " - 0s - loss: 291.0780 - val_loss: 347.2338\n",
      "Epoch 76/100\n",
      " - 0s - loss: 284.4908 - val_loss: 340.3090\n",
      "Epoch 77/100\n",
      " - 0s - loss: 278.3001 - val_loss: 333.5957\n",
      "Epoch 78/100\n",
      " - 0s - loss: 272.2546 - val_loss: 327.2115\n",
      "Epoch 79/100\n",
      " - 0s - loss: 266.7751 - val_loss: 321.0457\n",
      "Epoch 80/100\n",
      " - 0s - loss: 261.4013 - val_loss: 315.5958\n",
      "Epoch 81/100\n",
      " - 0s - loss: 256.5193 - val_loss: 309.9571\n",
      "Epoch 82/100\n",
      " - 0s - loss: 251.6584 - val_loss: 305.0174\n",
      "Epoch 83/100\n",
      " - 0s - loss: 247.1542 - val_loss: 299.9186\n",
      "Epoch 84/100\n",
      " - 0s - loss: 242.9354 - val_loss: 295.2086\n",
      "Epoch 85/100\n",
      " - 0s - loss: 238.8163 - val_loss: 290.5346\n",
      "Epoch 86/100\n",
      " - 0s - loss: 235.0144 - val_loss: 286.0690\n",
      "Epoch 87/100\n",
      " - 0s - loss: 231.2223 - val_loss: 281.8952\n",
      "Epoch 88/100\n",
      " - 0s - loss: 227.7474 - val_loss: 278.0334\n",
      "Epoch 89/100\n",
      " - 0s - loss: 224.3741 - val_loss: 274.1196\n",
      "Epoch 90/100\n",
      " - 0s - loss: 221.2430 - val_loss: 270.3936\n",
      "Epoch 91/100\n",
      " - 0s - loss: 218.0182 - val_loss: 266.9720\n",
      "Epoch 92/100\n",
      " - 0s - loss: 215.1940 - val_loss: 263.2390\n",
      "Epoch 93/100\n",
      " - 0s - loss: 212.3180 - val_loss: 259.8101\n",
      "Epoch 94/100\n",
      " - 0s - loss: 209.7365 - val_loss: 256.9473\n",
      "Epoch 95/100\n",
      " - 0s - loss: 206.9566 - val_loss: 253.7661\n",
      "Epoch 96/100\n",
      " - 0s - loss: 204.4936 - val_loss: 250.7832\n",
      "Epoch 97/100\n",
      " - 0s - loss: 202.1505 - val_loss: 248.0869\n",
      "Epoch 98/100\n",
      " - 0s - loss: 199.7995 - val_loss: 244.9594\n",
      "Epoch 99/100\n",
      " - 0s - loss: 197.5053 - val_loss: 242.5471\n",
      "Epoch 100/100\n",
      " - 0s - loss: 195.5217 - val_loss: 240.1382\n"
     ]
    },
    {
     "data": {
      "text/plain": [
       "<keras.callbacks.History at 0x7fac6b6c2080>"
      ]
     },
     "execution_count": 26,
     "metadata": {},
     "output_type": "execute_result"
    }
   ],
   "source": [
    "model_C.fit(X_train, y_train, validation_split=0.3, epochs=100, verbose=2)"
   ]
  },
  {
   "cell_type": "code",
   "execution_count": 27,
   "metadata": {},
   "outputs": [
    {
     "data": {
      "text/plain": [
       "199.8313352050866"
      ]
     },
     "execution_count": 27,
     "metadata": {},
     "output_type": "execute_result"
    }
   ],
   "source": [
    "y_pred = model_C.predict(X_test)\n",
    "\n",
    "mean_squared_error(y_test, y_pred)"
   ]
  },
  {
   "cell_type": "code",
   "execution_count": 28,
   "metadata": {},
   "outputs": [
    {
     "name": "stdout",
     "output_type": "stream",
     "text": [
      "Computing 1th iteration\n",
      "Computing 2th iteration\n",
      "Computing 3th iteration\n",
      "Computing 4th iteration\n",
      "Computing 5th iteration\n",
      "Computing 6th iteration\n",
      "Computing 7th iteration\n",
      "Computing 8th iteration\n",
      "Computing 9th iteration\n",
      "Computing 10th iteration\n",
      "Computing 11th iteration\n",
      "Computing 12th iteration\n",
      "Computing 13th iteration\n",
      "Computing 14th iteration\n",
      "Computing 15th iteration\n",
      "Computing 16th iteration\n",
      "Computing 17th iteration\n",
      "Computing 18th iteration\n",
      "Computing 19th iteration\n",
      "Computing 20th iteration\n",
      "Computing 21th iteration\n",
      "Computing 22th iteration\n",
      "Computing 23th iteration\n",
      "Computing 24th iteration\n",
      "Computing 25th iteration\n",
      "Computing 26th iteration\n",
      "Computing 27th iteration\n",
      "Computing 28th iteration\n",
      "Computing 29th iteration\n",
      "Computing 30th iteration\n",
      "Computing 31th iteration\n",
      "Computing 32th iteration\n",
      "Computing 33th iteration\n",
      "Computing 34th iteration\n",
      "Computing 35th iteration\n",
      "Computing 36th iteration\n",
      "Computing 37th iteration\n",
      "Computing 38th iteration\n",
      "Computing 39th iteration\n",
      "Computing 40th iteration\n",
      "Computing 41th iteration\n",
      "Computing 42th iteration\n",
      "Computing 43th iteration\n",
      "Computing 44th iteration\n",
      "Computing 45th iteration\n",
      "Computing 46th iteration\n",
      "Computing 47th iteration\n",
      "Computing 48th iteration\n",
      "Computing 49th iteration\n",
      "Computing 50th iteration\n",
      "Computing 51th iteration\n",
      "Computing 52th iteration\n",
      "Computing 53th iteration\n",
      "Computing 54th iteration\n",
      "Computing 55th iteration\n",
      "Computing 56th iteration\n",
      "Computing 57th iteration\n",
      "Computing 58th iteration\n",
      "Computing 59th iteration\n",
      "Computing 60th iteration\n",
      "Computing 61th iteration\n",
      "Computing 62th iteration\n",
      "Computing 63th iteration\n",
      "Computing 64th iteration\n",
      "Computing 65th iteration\n",
      "Computing 66th iteration\n",
      "Computing 67th iteration\n",
      "Computing 68th iteration\n",
      "Computing 69th iteration\n",
      "Computing 70th iteration\n",
      "Computing 71th iteration\n",
      "Computing 72th iteration\n",
      "Computing 73th iteration\n",
      "Computing 74th iteration\n",
      "Computing 75th iteration\n",
      "Computing 76th iteration\n",
      "Computing 77th iteration\n",
      "Computing 78th iteration\n",
      "Computing 79th iteration\n",
      "Computing 80th iteration\n",
      "Computing 81th iteration\n",
      "Computing 82th iteration\n",
      "Computing 83th iteration\n",
      "Computing 84th iteration\n",
      "Computing 85th iteration\n",
      "Computing 86th iteration\n",
      "Computing 87th iteration\n",
      "Computing 88th iteration\n",
      "Computing 89th iteration\n",
      "Computing 90th iteration\n",
      "Computing 91th iteration\n",
      "Computing 92th iteration\n",
      "Computing 93th iteration\n",
      "Computing 94th iteration\n",
      "Computing 95th iteration\n",
      "Computing 96th iteration\n",
      "Computing 97th iteration\n",
      "Computing 98th iteration\n",
      "Computing 99th iteration\n",
      "Computing 100th iteration\n"
     ]
    },
    {
     "data": {
      "text/plain": [
       "[428.14772717679233,\n",
       " 224.1286517443647,\n",
       " 191.95574014393026,\n",
       " 129.25070220818273,\n",
       " 129.97755624494087,\n",
       " 130.59632267333876,\n",
       " 94.32154268560322,\n",
       " 95.40381483930102,\n",
       " 88.1891039727837,\n",
       " 79.2078707072155]"
      ]
     },
     "execution_count": 28,
     "metadata": {},
     "output_type": "execute_result"
    }
   ],
   "source": [
    "model_C = regression_model()\n",
    "\n",
    "mse_list_norm_100 = []\n",
    "\n",
    "for i in range(100):\n",
    "    print('Computing {}th iteration'.format(i+1))\n",
    "    mse_list_norm_100.append(get_mse(model_C))\n",
    "\n",
    "mse_list_norm_100[:10]"
   ]
  },
  {
   "cell_type": "code",
   "execution_count": 29,
   "metadata": {},
   "outputs": [
    {
     "name": "stdout",
     "output_type": "stream",
     "text": [
      "Mean MSE (normalized data, 100 epochs):  63.406545922921715\n"
     ]
    }
   ],
   "source": [
    "mean_mse_norm_100 = np.mean(mse_list_norm_100)\n",
    "print('Mean MSE (normalized data, 100 epochs): ', mean_mse_norm_100)"
   ]
  },
  {
   "cell_type": "code",
   "execution_count": 30,
   "metadata": {},
   "outputs": [
    {
     "name": "stdout",
     "output_type": "stream",
     "text": [
      "Standard deviation of MSE (normalized data, 100 epochs):  45.327161124465874\n"
     ]
    }
   ],
   "source": [
    "sd_mse_norm_100 = np.std(mse_list_norm_100)\n",
    "print('Standard deviation of MSE (normalized data, 100 epochs): ', sd_mse_norm_100)"
   ]
  },
  {
   "cell_type": "code",
   "execution_count": null,
   "metadata": {},
   "outputs": [],
   "source": []
  },
  {
   "cell_type": "markdown",
   "metadata": {},
   "source": [
    "# D. Increase the number of hidden layers (5 marks)"
   ]
  },
  {
   "cell_type": "code",
   "execution_count": 31,
   "metadata": {},
   "outputs": [],
   "source": [
    "def regression_model_D():\n",
    "    # create model\n",
    "    model = Sequential()\n",
    "    model.add(Dense(10, activation='relu', input_shape=(n_cols,)))\n",
    "    model.add(Dense(10, activation='relu'))\n",
    "    model.add(Dense(10, activation='relu'))\n",
    "    model.add(Dense(1))\n",
    "    \n",
    "    # compile model\n",
    "    model.compile(optimizer='adam', loss='mean_squared_error')\n",
    "    return model\n",
    "\n",
    "model_D = regression_model_D()"
   ]
  },
  {
   "cell_type": "code",
   "execution_count": 32,
   "metadata": {},
   "outputs": [
    {
     "data": {
      "text/plain": [
       "952    33.72\n",
       "320    28.68\n",
       "283    44.21\n",
       "93     46.20\n",
       "649     6.90\n",
       "Name: Strength, dtype: float64"
      ]
     },
     "execution_count": 32,
     "metadata": {},
     "output_type": "execute_result"
    }
   ],
   "source": [
    "from sklearn.model_selection import train_test_split\n",
    "X_train, X_test, y_train, y_test = train_test_split(predictors_norm, target, test_size=0.3)\n",
    "\n",
    "y_test.head()"
   ]
  },
  {
   "cell_type": "code",
   "execution_count": 33,
   "metadata": {},
   "outputs": [
    {
     "name": "stdout",
     "output_type": "stream",
     "text": [
      "Train on 504 samples, validate on 217 samples\n",
      "Epoch 1/50\n",
      " - 1s - loss: 1529.8105 - val_loss: 1614.0066\n",
      "Epoch 2/50\n",
      " - 0s - loss: 1516.0611 - val_loss: 1596.2363\n",
      "Epoch 3/50\n",
      " - 0s - loss: 1497.5163 - val_loss: 1571.5700\n",
      "Epoch 4/50\n",
      " - 0s - loss: 1472.1143 - val_loss: 1537.9184\n",
      "Epoch 5/50\n",
      " - 0s - loss: 1436.6182 - val_loss: 1492.4006\n",
      "Epoch 6/50\n",
      " - 0s - loss: 1389.5325 - val_loss: 1430.6044\n",
      "Epoch 7/50\n",
      " - 0s - loss: 1326.9590 - val_loss: 1350.1988\n",
      "Epoch 8/50\n",
      " - 0s - loss: 1246.1138 - val_loss: 1247.1167\n",
      "Epoch 9/50\n",
      " - 0s - loss: 1142.6503 - val_loss: 1122.0313\n",
      "Epoch 10/50\n",
      " - 0s - loss: 1017.8396 - val_loss: 972.1095\n",
      "Epoch 11/50\n",
      " - 0s - loss: 871.1309 - val_loss: 808.5724\n",
      "Epoch 12/50\n",
      " - 0s - loss: 714.8836 - val_loss: 648.6611\n",
      "Epoch 13/50\n",
      " - 0s - loss: 568.8606 - val_loss: 509.6644\n",
      "Epoch 14/50\n",
      " - 0s - loss: 445.0355 - val_loss: 412.0819\n",
      "Epoch 15/50\n",
      " - 0s - loss: 362.6222 - val_loss: 353.5368\n",
      "Epoch 16/50\n",
      " - 0s - loss: 303.9626 - val_loss: 322.7721\n",
      "Epoch 17/50\n",
      " - 0s - loss: 271.0425 - val_loss: 301.2462\n",
      "Epoch 18/50\n",
      " - 0s - loss: 243.9623 - val_loss: 283.2598\n",
      "Epoch 19/50\n",
      " - 0s - loss: 225.9196 - val_loss: 269.0032\n",
      "Epoch 20/50\n",
      " - 0s - loss: 212.2013 - val_loss: 254.0654\n",
      "Epoch 21/50\n",
      " - 0s - loss: 200.5213 - val_loss: 244.7278\n",
      "Epoch 22/50\n",
      " - 0s - loss: 192.5809 - val_loss: 237.4126\n",
      "Epoch 23/50\n",
      " - 0s - loss: 186.7417 - val_loss: 230.4060\n",
      "Epoch 24/50\n",
      " - 0s - loss: 181.7969 - val_loss: 224.7504\n",
      "Epoch 25/50\n",
      " - 0s - loss: 178.1237 - val_loss: 220.4162\n",
      "Epoch 26/50\n",
      " - 0s - loss: 175.5250 - val_loss: 214.0418\n",
      "Epoch 27/50\n",
      " - 0s - loss: 172.1718 - val_loss: 211.5078\n",
      "Epoch 28/50\n",
      " - 0s - loss: 169.7289 - val_loss: 208.4559\n",
      "Epoch 29/50\n",
      " - 0s - loss: 167.5215 - val_loss: 205.3684\n",
      "Epoch 30/50\n",
      " - 0s - loss: 165.4100 - val_loss: 200.6385\n",
      "Epoch 31/50\n",
      " - 0s - loss: 163.4965 - val_loss: 199.0147\n",
      "Epoch 32/50\n",
      " - 0s - loss: 161.0035 - val_loss: 194.9606\n",
      "Epoch 33/50\n",
      " - 0s - loss: 159.0668 - val_loss: 192.3205\n",
      "Epoch 34/50\n",
      " - 0s - loss: 157.1937 - val_loss: 189.8350\n",
      "Epoch 35/50\n",
      " - 0s - loss: 155.7034 - val_loss: 187.3511\n",
      "Epoch 36/50\n",
      " - 0s - loss: 153.9577 - val_loss: 184.3449\n",
      "Epoch 37/50\n",
      " - 0s - loss: 151.8793 - val_loss: 182.4716\n",
      "Epoch 38/50\n",
      " - 0s - loss: 150.2571 - val_loss: 180.2972\n",
      "Epoch 39/50\n",
      " - 0s - loss: 148.7881 - val_loss: 177.7965\n",
      "Epoch 40/50\n",
      " - 0s - loss: 147.2863 - val_loss: 175.3457\n",
      "Epoch 41/50\n",
      " - 0s - loss: 145.4772 - val_loss: 173.1824\n",
      "Epoch 42/50\n",
      " - 0s - loss: 144.0366 - val_loss: 170.7821\n",
      "Epoch 43/50\n",
      " - 0s - loss: 142.7525 - val_loss: 168.4747\n",
      "Epoch 44/50\n",
      " - 0s - loss: 141.0413 - val_loss: 166.2686\n",
      "Epoch 45/50\n",
      " - 0s - loss: 139.7965 - val_loss: 163.9291\n",
      "Epoch 46/50\n",
      " - 0s - loss: 138.5974 - val_loss: 162.0296\n",
      "Epoch 47/50\n",
      " - 0s - loss: 137.0943 - val_loss: 160.9248\n",
      "Epoch 48/50\n",
      " - 0s - loss: 135.7196 - val_loss: 158.6706\n",
      "Epoch 49/50\n",
      " - 0s - loss: 134.6716 - val_loss: 156.7527\n",
      "Epoch 50/50\n",
      " - 0s - loss: 133.3582 - val_loss: 155.3424\n"
     ]
    },
    {
     "data": {
      "text/plain": [
       "<keras.callbacks.History at 0x7fabb014f5f8>"
      ]
     },
     "execution_count": 33,
     "metadata": {},
     "output_type": "execute_result"
    }
   ],
   "source": [
    "model_D.fit(X_train, y_train, validation_split=0.3, epochs=50, verbose=2)"
   ]
  },
  {
   "cell_type": "code",
   "execution_count": 34,
   "metadata": {},
   "outputs": [
    {
     "data": {
      "text/plain": [
       "166.73091505089397"
      ]
     },
     "execution_count": 34,
     "metadata": {},
     "output_type": "execute_result"
    }
   ],
   "source": [
    "y_pred = model_D.predict(X_test)\n",
    "\n",
    "mean_squared_error(y_test, y_pred)"
   ]
  },
  {
   "cell_type": "code",
   "execution_count": 35,
   "metadata": {},
   "outputs": [
    {
     "name": "stdout",
     "output_type": "stream",
     "text": [
      "Computing 1th iteration\n",
      "Computing 2th iteration\n",
      "Computing 3th iteration\n",
      "Computing 4th iteration\n",
      "Computing 5th iteration\n",
      "Computing 6th iteration\n",
      "Computing 7th iteration\n",
      "Computing 8th iteration\n",
      "Computing 9th iteration\n",
      "Computing 10th iteration\n",
      "Computing 11th iteration\n",
      "Computing 12th iteration\n",
      "Computing 13th iteration\n",
      "Computing 14th iteration\n",
      "Computing 15th iteration\n",
      "Computing 16th iteration\n",
      "Computing 17th iteration\n",
      "Computing 18th iteration\n",
      "Computing 19th iteration\n",
      "Computing 20th iteration\n",
      "Computing 21th iteration\n",
      "Computing 22th iteration\n",
      "Computing 23th iteration\n",
      "Computing 24th iteration\n",
      "Computing 25th iteration\n",
      "Computing 26th iteration\n",
      "Computing 27th iteration\n",
      "Computing 28th iteration\n",
      "Computing 29th iteration\n",
      "Computing 30th iteration\n",
      "Computing 31th iteration\n",
      "Computing 32th iteration\n",
      "Computing 33th iteration\n",
      "Computing 34th iteration\n",
      "Computing 35th iteration\n",
      "Computing 36th iteration\n",
      "Computing 37th iteration\n",
      "Computing 38th iteration\n",
      "Computing 39th iteration\n",
      "Computing 40th iteration\n",
      "Computing 41th iteration\n",
      "Computing 42th iteration\n",
      "Computing 43th iteration\n",
      "Computing 44th iteration\n",
      "Computing 45th iteration\n",
      "Computing 46th iteration\n",
      "Computing 47th iteration\n",
      "Computing 48th iteration\n",
      "Computing 49th iteration\n",
      "Computing 50th iteration\n"
     ]
    },
    {
     "data": {
      "text/plain": [
       "[265.5886684249818,\n",
       " 202.09580118404935,\n",
       " 134.62819338838645,\n",
       " 116.70271350457213,\n",
       " 126.76637476857358,\n",
       " 107.71667847820542,\n",
       " 109.13046289790641,\n",
       " 111.23439924496617,\n",
       " 109.27883191416988,\n",
       " 114.79382402027636]"
      ]
     },
     "execution_count": 35,
     "metadata": {},
     "output_type": "execute_result"
    }
   ],
   "source": [
    "model_D = regression_model_D()\n",
    "\n",
    "mse_list_norm_D = []\n",
    "\n",
    "for i in range(50):\n",
    "    print('Computing {}th iteration'.format(i+1))\n",
    "    mse_list_norm_D.append(get_mse(model_D))\n",
    "\n",
    "mse_list_norm_D[:10]"
   ]
  },
  {
   "cell_type": "code",
   "execution_count": 36,
   "metadata": {},
   "outputs": [
    {
     "name": "stdout",
     "output_type": "stream",
     "text": [
      "Mean MSE (normalized data, 3 hidden layers):  86.38566381434345\n"
     ]
    }
   ],
   "source": [
    "mean_mse_norm_D = np.mean(mse_list_norm_D)\n",
    "print('Mean MSE (normalized data, 3 hidden layers): ', mean_mse_norm_D)"
   ]
  },
  {
   "cell_type": "code",
   "execution_count": 37,
   "metadata": {},
   "outputs": [
    {
     "name": "stdout",
     "output_type": "stream",
     "text": [
      "Standard deviation of MSE (normalized data, 3 hidden layers):  46.08313789222228\n"
     ]
    }
   ],
   "source": [
    "sd_mse_norm_D = np.std(mse_list_norm_D)\n",
    "print('Standard deviation of MSE (normalized data, 3 hidden layers): ', sd_mse_norm_D)"
   ]
  },
  {
   "cell_type": "markdown",
   "metadata": {},
   "source": [
    "# Stats"
   ]
  },
  {
   "cell_type": "code",
   "execution_count": 38,
   "metadata": {},
   "outputs": [
    {
     "name": "stdout",
     "output_type": "stream",
     "text": [
      "\n",
      "A\n",
      "Mean MSE:  119.68541321852037\n",
      "Standard deviation of MSE:  243.11265705747866\n",
      "\n",
      "B\n",
      "Mean MSE (normalized data):  157.21599365438797\n",
      "Standard deviation of MSE (normalized data):  258.8183682766227\n",
      "\n",
      "C\n",
      "Mean MSE (normalized data, 100 epochs):  63.406545922921715\n",
      "Standard deviation of MSE (normalized data, 100 epochs):  45.327161124465874\n",
      "\n",
      "D\n",
      "Mean MSE (normalized data, 3 hidden layers):  86.38566381434345\n",
      "Standard deviation of MSE (normalized data, 3 hidden layers):  46.08313789222228\n"
     ]
    }
   ],
   "source": [
    "print('\\nA')\n",
    "print('Mean MSE: ', mean_mse)\n",
    "print('Standard deviation of MSE: ', sd_mse)\n",
    "\n",
    "print('\\nB')\n",
    "print('Mean MSE (normalized data): ', mean_mse_norm)\n",
    "print('Standard deviation of MSE (normalized data): ', sd_mse_norm)\n",
    "\n",
    "print('\\nC')\n",
    "print('Mean MSE (normalized data, 100 epochs): ', mean_mse_norm_100)\n",
    "print('Standard deviation of MSE (normalized data, 100 epochs): ', sd_mse_norm_100)\n",
    "\n",
    "print('\\nD')\n",
    "print('Mean MSE (normalized data, 3 hidden layers): ', mean_mse_norm_D)\n",
    "print('Standard deviation of MSE (normalized data, 3 hidden layers): ', sd_mse_norm_D)"
   ]
  },
  {
   "cell_type": "markdown",
   "metadata": {},
   "source": [
    "### Normalizing the data seemed to lower the accuracy of the model, as seen from comparison of Mean and Standard deviation of MSE from parts A and B\n",
    "\n",
    "### Doubling the number of epochs had a significant positive effect on the accuracy of the model. We can see that the Mean MSE was 157.2 with 50 epochs (Part B) and Mean MSE with 100 epochs is 64.4! And the standard deviation of MSE with 100 epochs is almost 6 times smaller than with 50 epochs.\n",
    "\n",
    "### Implementing 3 hidden layers instead of 1 also has increased the accuracy of the model greatly, almost as good as in Part C where we doubled the number of epochs. "
   ]
  },
  {
   "cell_type": "code",
   "execution_count": null,
   "metadata": {},
   "outputs": [],
   "source": []
  }
 ],
 "metadata": {
  "kernelspec": {
   "display_name": "Python",
   "language": "python",
   "name": "conda-env-python-py"
  },
  "language_info": {
   "codemirror_mode": {
    "name": "ipython",
    "version": 3
   },
   "file_extension": ".py",
   "mimetype": "text/x-python",
   "name": "python",
   "nbconvert_exporter": "python",
   "pygments_lexer": "ipython3",
   "version": "3.6.10"
  }
 },
 "nbformat": 4,
 "nbformat_minor": 4
}
